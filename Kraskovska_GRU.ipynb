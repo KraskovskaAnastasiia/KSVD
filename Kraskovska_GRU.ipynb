{
  "nbformat": 4,
  "nbformat_minor": 0,
  "metadata": {
    "colab": {
      "provenance": []
    },
    "kernelspec": {
      "name": "python3",
      "display_name": "Python 3"
    },
    "language_info": {
      "name": "python"
    }
  },
  "cells": [
    {
      "cell_type": "markdown",
      "source": [
        "Лабораторна робота 2\n",
        "\n",
        "студентки групи ФІТ 4-4\n",
        "\n",
        "Красковської Анастасії Олександрівни"
      ],
      "metadata": {
        "id": "lB5Uhl6S87RV"
      }
    },
    {
      "cell_type": "markdown",
      "source": [
        "**ЗАВДАННЯ 1**\n",
        "\n",
        "Створити RNN для семантичного аналізу тексту з використанням:\n",
        "1) моделі LSTM;\n",
        "2) моделі GRU.\n",
        "Розробити власну архітектуру, кількість рекурентних шарів, функції\n",
        "активації, вибрати оптимізатор.\n",
        "Отримати для двох моделей по дві рецензії (позитивну і негативну).\n",
        "Завдання 1 здавати у вигляді двох окремих файлів ipynb.\n",
        "Назва(наприклад): Прізвище_GRU.ipynb"
      ],
      "metadata": {
        "id": "ZBG5_bpM8w1h"
      }
    },
    {
      "cell_type": "code",
      "source": [
        "import numpy as np\n",
        "from tensorflow.keras.layers import Dense, GRU, Input, Embedding\n",
        "from tensorflow.keras.models import Sequential\n",
        "from tensorflow.keras.optimizers import Adam\n",
        "from tensorflow.keras.preprocessing.text import Tokenizer\n",
        "from tensorflow.keras.preprocessing.sequence import pad_sequences\n",
        "\n",
        "# Позитивні та негативні тексти\n",
        "texts_true = [\n",
        "     \"Ця книга вражає своєю глибиною та проникливістю.\",\n",
        "    \"Автор зумів майстерно розкрити головних героїв, надаючи їм життєвий досвід.\",\n",
        "    \"Читання цієї книги залишає після себе незабутні враження та відчуття вдячності.\"\n",
        "]\n",
        "\n",
        "texts_false = [\n",
        "    \"Ця книга розчарувала своїми плоскими персонажами та передбачуваним сюжетом.\",\n",
        "    \"Стиль автора в цій книзі відчувається дуже механічним та бездушним.\",\n",
        "    \"Читання цієї книги не принесло жодного задоволення, лише втрату часу та розчарування.\"\n",
        "]\n",
        "\n",
        "# Об'єднання позитивних та негативних текстів\n",
        "texts = texts_true + texts_false\n",
        "count_true = len(texts_true)\n",
        "count_false = len(texts_false)\n",
        "\n",
        "# Максимальна кількість слів у тексті та створення токенізатора\n",
        "maxWordsCount = 1000\n",
        "tokenizer = Tokenizer(num_words=maxWordsCount, filters='!–\"—#$%&amp;()*+,-./:;<=>?@[\\\\]^_`{|}~\\t\\n\\r«»', lower=True, split=' ', char_level=False)\n",
        "tokenizer.fit_on_texts(texts)\n",
        "\n",
        "# Кодування текстів у вектори та падінг до однакової довжини\n",
        "max_text_len = 10\n",
        "data = tokenizer.texts_to_sequences(texts)\n",
        "data_pad = pad_sequences(data, maxlen=max_text_len)\n",
        "\n",
        "# Побудова моделі\n",
        "model = Sequential()\n",
        "model.add(Embedding(maxWordsCount, 128, input_length=max_text_len))\n",
        "model.add(GRU(128, return_sequences=True))\n",
        "model.add(GRU(64))\n",
        "model.add(Dense(2, activation='softmax'))\n",
        "model.summary()\n",
        "\n",
        "# Компіляція та тренування моделі\n",
        "model.compile(loss='categorical_crossentropy', metrics=['accuracy'], optimizer=Adam(0.0001))\n",
        "history = model.fit(data_pad, np.array([[1, 0]]*count_true + [[0, 1]]*count_false), batch_size=32, epochs=50)\n",
        "\n",
        "# Перетворення послідовності слів у вектор та передбачення класу тексту\n",
        "t = \"Це неймовірно добра книга\".lower()\n",
        "data = tokenizer.texts_to_sequences([t])\n",
        "data_pad = pad_sequences(data, maxlen=max_text_len)\n",
        "res = model.predict(data_pad)\n",
        "\n",
        "# Виведення результатів\n",
        "print(res)"
      ],
      "metadata": {
        "colab": {
          "base_uri": "https://localhost:8080/"
        },
        "id": "Q5UASYO686J2",
        "outputId": "f98c744d-5528-4360-ccf0-ae1bc5161cde"
      },
      "execution_count": 1,
      "outputs": [
        {
          "output_type": "stream",
          "name": "stdout",
          "text": [
            "Model: \"sequential\"\n",
            "_________________________________________________________________\n",
            " Layer (type)                Output Shape              Param #   \n",
            "=================================================================\n",
            " embedding (Embedding)       (None, 10, 128)           128000    \n",
            "                                                                 \n",
            " gru (GRU)                   (None, 10, 128)           99072     \n",
            "                                                                 \n",
            " gru_1 (GRU)                 (None, 64)                37248     \n",
            "                                                                 \n",
            " dense (Dense)               (None, 2)                 130       \n",
            "                                                                 \n",
            "=================================================================\n",
            "Total params: 264450 (1.01 MB)\n",
            "Trainable params: 264450 (1.01 MB)\n",
            "Non-trainable params: 0 (0.00 Byte)\n",
            "_________________________________________________________________\n",
            "Epoch 1/50\n",
            "1/1 [==============================] - 6s 6s/step - loss: 0.6927 - accuracy: 0.5000\n",
            "Epoch 2/50\n",
            "1/1 [==============================] - 0s 30ms/step - loss: 0.6914 - accuracy: 0.5000\n",
            "Epoch 3/50\n",
            "1/1 [==============================] - 0s 27ms/step - loss: 0.6901 - accuracy: 0.6667\n",
            "Epoch 4/50\n",
            "1/1 [==============================] - 0s 32ms/step - loss: 0.6889 - accuracy: 0.6667\n",
            "Epoch 5/50\n",
            "1/1 [==============================] - 0s 36ms/step - loss: 0.6876 - accuracy: 0.8333\n",
            "Epoch 6/50\n",
            "1/1 [==============================] - 0s 29ms/step - loss: 0.6864 - accuracy: 0.8333\n",
            "Epoch 7/50\n",
            "1/1 [==============================] - 0s 30ms/step - loss: 0.6851 - accuracy: 0.8333\n",
            "Epoch 8/50\n",
            "1/1 [==============================] - 0s 40ms/step - loss: 0.6839 - accuracy: 1.0000\n",
            "Epoch 9/50\n",
            "1/1 [==============================] - 0s 34ms/step - loss: 0.6826 - accuracy: 1.0000\n",
            "Epoch 10/50\n",
            "1/1 [==============================] - 0s 33ms/step - loss: 0.6813 - accuracy: 1.0000\n",
            "Epoch 11/50\n",
            "1/1 [==============================] - 0s 29ms/step - loss: 0.6800 - accuracy: 1.0000\n",
            "Epoch 12/50\n",
            "1/1 [==============================] - 0s 41ms/step - loss: 0.6787 - accuracy: 1.0000\n",
            "Epoch 13/50\n",
            "1/1 [==============================] - 0s 41ms/step - loss: 0.6774 - accuracy: 1.0000\n",
            "Epoch 14/50\n",
            "1/1 [==============================] - 0s 35ms/step - loss: 0.6761 - accuracy: 1.0000\n",
            "Epoch 15/50\n",
            "1/1 [==============================] - 0s 40ms/step - loss: 0.6747 - accuracy: 1.0000\n",
            "Epoch 16/50\n",
            "1/1 [==============================] - 0s 42ms/step - loss: 0.6734 - accuracy: 1.0000\n",
            "Epoch 17/50\n",
            "1/1 [==============================] - 0s 29ms/step - loss: 0.6719 - accuracy: 1.0000\n",
            "Epoch 18/50\n",
            "1/1 [==============================] - 0s 31ms/step - loss: 0.6705 - accuracy: 1.0000\n",
            "Epoch 19/50\n",
            "1/1 [==============================] - 0s 29ms/step - loss: 0.6690 - accuracy: 1.0000\n",
            "Epoch 20/50\n",
            "1/1 [==============================] - 0s 33ms/step - loss: 0.6675 - accuracy: 1.0000\n",
            "Epoch 21/50\n",
            "1/1 [==============================] - 0s 35ms/step - loss: 0.6660 - accuracy: 1.0000\n",
            "Epoch 22/50\n",
            "1/1 [==============================] - 0s 32ms/step - loss: 0.6644 - accuracy: 1.0000\n",
            "Epoch 23/50\n",
            "1/1 [==============================] - 0s 33ms/step - loss: 0.6628 - accuracy: 1.0000\n",
            "Epoch 24/50\n",
            "1/1 [==============================] - 0s 31ms/step - loss: 0.6611 - accuracy: 1.0000\n",
            "Epoch 25/50\n",
            "1/1 [==============================] - 0s 31ms/step - loss: 0.6593 - accuracy: 1.0000\n",
            "Epoch 26/50\n",
            "1/1 [==============================] - 0s 32ms/step - loss: 0.6576 - accuracy: 1.0000\n",
            "Epoch 27/50\n",
            "1/1 [==============================] - 0s 32ms/step - loss: 0.6557 - accuracy: 1.0000\n",
            "Epoch 28/50\n",
            "1/1 [==============================] - 0s 36ms/step - loss: 0.6538 - accuracy: 1.0000\n",
            "Epoch 29/50\n",
            "1/1 [==============================] - 0s 36ms/step - loss: 0.6518 - accuracy: 1.0000\n",
            "Epoch 30/50\n",
            "1/1 [==============================] - 0s 29ms/step - loss: 0.6498 - accuracy: 1.0000\n",
            "Epoch 31/50\n",
            "1/1 [==============================] - 0s 37ms/step - loss: 0.6477 - accuracy: 1.0000\n",
            "Epoch 32/50\n",
            "1/1 [==============================] - 0s 33ms/step - loss: 0.6455 - accuracy: 1.0000\n",
            "Epoch 33/50\n",
            "1/1 [==============================] - 0s 33ms/step - loss: 0.6432 - accuracy: 1.0000\n",
            "Epoch 34/50\n",
            "1/1 [==============================] - 0s 33ms/step - loss: 0.6408 - accuracy: 1.0000\n",
            "Epoch 35/50\n",
            "1/1 [==============================] - 0s 33ms/step - loss: 0.6383 - accuracy: 1.0000\n",
            "Epoch 36/50\n",
            "1/1 [==============================] - 0s 38ms/step - loss: 0.6358 - accuracy: 1.0000\n",
            "Epoch 37/50\n",
            "1/1 [==============================] - 0s 27ms/step - loss: 0.6331 - accuracy: 1.0000\n",
            "Epoch 38/50\n",
            "1/1 [==============================] - 0s 27ms/step - loss: 0.6303 - accuracy: 1.0000\n",
            "Epoch 39/50\n",
            "1/1 [==============================] - 0s 31ms/step - loss: 0.6274 - accuracy: 1.0000\n",
            "Epoch 40/50\n",
            "1/1 [==============================] - 0s 35ms/step - loss: 0.6244 - accuracy: 1.0000\n",
            "Epoch 41/50\n",
            "1/1 [==============================] - 0s 29ms/step - loss: 0.6213 - accuracy: 1.0000\n",
            "Epoch 42/50\n",
            "1/1 [==============================] - 0s 30ms/step - loss: 0.6180 - accuracy: 1.0000\n",
            "Epoch 43/50\n",
            "1/1 [==============================] - 0s 31ms/step - loss: 0.6146 - accuracy: 1.0000\n",
            "Epoch 44/50\n",
            "1/1 [==============================] - 0s 27ms/step - loss: 0.6110 - accuracy: 1.0000\n",
            "Epoch 45/50\n",
            "1/1 [==============================] - 0s 34ms/step - loss: 0.6073 - accuracy: 1.0000\n",
            "Epoch 46/50\n",
            "1/1 [==============================] - 0s 33ms/step - loss: 0.6034 - accuracy: 1.0000\n",
            "Epoch 47/50\n",
            "1/1 [==============================] - 0s 36ms/step - loss: 0.5993 - accuracy: 1.0000\n",
            "Epoch 48/50\n",
            "1/1 [==============================] - 0s 30ms/step - loss: 0.5950 - accuracy: 1.0000\n",
            "Epoch 49/50\n",
            "1/1 [==============================] - 0s 35ms/step - loss: 0.5906 - accuracy: 1.0000\n",
            "Epoch 50/50\n",
            "1/1 [==============================] - 0s 31ms/step - loss: 0.5859 - accuracy: 1.0000\n",
            "1/1 [==============================] - 2s 2s/step\n",
            "[[0.5609074  0.43909264]]\n"
          ]
        }
      ]
    },
    {
      "cell_type": "code",
      "source": [
        "# Визначення результату\n",
        "if res[0][0] > res[0][1]:\n",
        "    print(\"Позитивний.\")\n",
        "else:\n",
        "    print(\"Негативний.\")"
      ],
      "metadata": {
        "colab": {
          "base_uri": "https://localhost:8080/"
        },
        "id": "2VxQ0mcJ9Rhx",
        "outputId": "27f41cd4-cba8-4621-c008-9eedeb44ef00"
      },
      "execution_count": 2,
      "outputs": [
        {
          "output_type": "stream",
          "name": "stdout",
          "text": [
            "Позитивний.\n"
          ]
        }
      ]
    },
    {
      "cell_type": "code",
      "source": [
        "reverse_word_map = dict(map(reversed, tokenizer.word_index.items()))\n",
        "\n",
        "def sequence_to_text(list_of_indices):\n",
        "    words = [reverse_word_map.get(letter) for letter in list_of_indices]\n",
        "    return \" \".join(words)\n",
        "\n",
        "t1 = \"Це жахлива книга\".lower()\n",
        "data1 = tokenizer.texts_to_sequences([t1])\n",
        "data1_pad = pad_sequences(data1, maxlen=max_text_len)\n",
        "print(sequence_to_text(data1[0]))\n",
        "\n",
        "res1 = model.predict(data1_pad)"
      ],
      "metadata": {
        "colab": {
          "base_uri": "https://localhost:8080/"
        },
        "id": "lDU274Z69N6g",
        "outputId": "7e34d0be-c85e-4e1d-b5d1-c16db4af74f4"
      },
      "execution_count": 3,
      "outputs": [
        {
          "output_type": "stream",
          "name": "stdout",
          "text": [
            "книга\n",
            "1/1 [==============================] - 0s 37ms/step\n"
          ]
        }
      ]
    },
    {
      "cell_type": "code",
      "source": [
        "# Визначення результату\n",
        "if res[0][0] > res[0][1]:\n",
        "    print(\"Позитивний.\")\n",
        "else:\n",
        "    print(\"Негативний.\")"
      ],
      "metadata": {
        "colab": {
          "base_uri": "https://localhost:8080/"
        },
        "id": "eot6o0JO9XMG",
        "outputId": "b240bd78-2eb8-47aa-fa19-fc964edda954"
      },
      "execution_count": 4,
      "outputs": [
        {
          "output_type": "stream",
          "name": "stdout",
          "text": [
            "Позитивний.\n"
          ]
        }
      ]
    }
  ]
}